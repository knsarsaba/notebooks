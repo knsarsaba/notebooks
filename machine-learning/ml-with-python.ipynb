{
 "cells": [
  {
   "cell_type": "markdown",
   "id": "b4c143db-0f81-41d0-b90e-cfc5de0aa043",
   "metadata": {},
   "source": [
    "# Machine Learning with Python\n",
    "\n",
    "Notes from this course: https://www.freecodecamp.org/learn/machine-learning-with-python/"
   ]
  },
  {
   "cell_type": "markdown",
   "id": "332e3ff3-a83a-4e28-8a00-8d359ef26e20",
   "metadata": {
    "jp-MarkdownHeadingCollapsed": true
   },
   "source": [
    "## Introduction: Machine Learning Fundamentals"
   ]
  },
  {
   "cell_type": "markdown",
   "id": "5b950a9d-9d24-4520-9b84-69189023cda9",
   "metadata": {
    "jp-MarkdownHeadingCollapsed": true
   },
   "source": [
    "#### Learning log\n",
    "Feature\n",
    "- input\n",
    "\n",
    "Label\n",
    "- output\n",
    "\n",
    "Training dataset\n",
    "- includes Features and Labels to \"learn\" the rules\n",
    "\n",
    "Test dataset\n",
    "- includes Features only to produce the Labels \n",
    "\n",
    "Tensors\n",
    "- main object passed around in TensorFlow\n",
    "- has datatype and shape\n",
    "    \n",
    "Datatype\n",
    "- kind of information stored in a tensor\n",
    "\n",
    "Shape\n",
    "- dimensions of data\n",
    "\n",
    "Scalar value\n",
    "- shape of 1\n",
    "- 1 value\n",
    "- rank/degree of 0 or no dimensions\n",
    "- for example: `1`, `2.9`, `\"foo\"`, `\"bar\"`\n",
    "\n",
    "Vector value\n",
    "- more than 1 value\n",
    "- for example: `[1, 2, 3]`, `[[1, 2, 3], [4, 5, 6]]`\n",
    "\n",
    "Rank/Degree of tensor\n",
    "- rank and degree are interchangeable\n",
    "- number of dimensions involved in a tensor"
   ]
  },
  {
   "cell_type": "markdown",
   "id": "a40103f9-ea55-400d-ab06-3d2edba35a11",
   "metadata": {},
   "source": [
    "#### Further reading\n",
    "- Linear algebra\n",
    "- Vector calculus"
   ]
  },
  {
   "cell_type": "markdown",
   "id": "48186d9f-d8ee-457e-a935-ee873ecb3f8b",
   "metadata": {
    "jp-MarkdownHeadingCollapsed": true
   },
   "source": [
    "## Introduction to TensorFlow"
   ]
  },
  {
   "cell_type": "markdown",
   "id": "a93227ea-a25a-4f62-b472-65e5f033b696",
   "metadata": {
    "jp-MarkdownHeadingCollapsed": true
   },
   "source": [
    "#### Learning log\n",
    "- Setup [JupyterLab](https://jupyterlab.readthedocs.io/en/latest/)\n",
    "    - Ubuntu 20.04\n",
    "    - Encountered an issue with the latest release of `jupyter_client` version `8.5.0`. See [#987](https://github.com/jupyter/jupyter_client/pull/987)\n",
    "    - Fixed temporarily by downgrading the version of `jupyter_client` to `8.4.0`\n",
    "- Created my first notebook in Google Collab. See [Hello world](https://colab.research.google.com/drive/1ImIttkrZcrz39gBklRrWMJb-Px8KR67K) notebook"
   ]
  },
  {
   "cell_type": "markdown",
   "id": "77ccc88e-81f1-4711-ac5d-92f17d0e131c",
   "metadata": {},
   "source": [
    "## Core Learning Algorithms\n"
   ]
  }
 ],
 "metadata": {
  "kernelspec": {
   "display_name": "Python 3 (ipykernel)",
   "language": "python",
   "name": "python3"
  },
  "language_info": {
   "codemirror_mode": {
    "name": "ipython",
    "version": 3
   },
   "file_extension": ".py",
   "mimetype": "text/x-python",
   "name": "python",
   "nbconvert_exporter": "python",
   "pygments_lexer": "ipython3",
   "version": "3.8.10"
  }
 },
 "nbformat": 4,
 "nbformat_minor": 5
}
