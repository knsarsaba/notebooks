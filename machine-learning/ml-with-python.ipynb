{
 "cells": [
  {
   "cell_type": "markdown",
   "id": "b4c143db-0f81-41d0-b90e-cfc5de0aa043",
   "metadata": {},
   "source": [
    "# Machine Learning with Python\n",
    "\n",
    "Notes from this course: https://www.freecodecamp.org/learn/machine-learning-with-python/"
   ]
  },
  {
   "cell_type": "markdown",
   "id": "332e3ff3-a83a-4e28-8a00-8d359ef26e20",
   "metadata": {},
   "source": [
    "## Introduction: Machine Learning Fundamentals"
   ]
  },
  {
   "cell_type": "markdown",
   "id": "5b950a9d-9d24-4520-9b84-69189023cda9",
   "metadata": {},
   "source": [
    "### Learning log\n",
    "- Feature - input\n",
    "- Label - output\n",
    "- Training dataset - includes Features and Labels to \"learn\" the rules\n",
    "- Test dataset - includes Features only to produce the Labels\n",
    "\n",
    "### Further reading\n",
    "- Linear algebra\n",
    "- Vector calculus"
   ]
  },
  {
   "cell_type": "markdown",
   "id": "c6a668e9-18a3-4c6b-89b6-af4c11d2e843",
   "metadata": {},
   "source": [
    "---"
   ]
  },
  {
   "cell_type": "markdown",
   "id": "48186d9f-d8ee-457e-a935-ee873ecb3f8b",
   "metadata": {},
   "source": [
    "## Introduction to TensorFlow"
   ]
  },
  {
   "cell_type": "markdown",
   "id": "a93227ea-a25a-4f62-b472-65e5f033b696",
   "metadata": {},
   "source": [
    "### Learning log\n",
    "- Setup [JupyterLab](https://jupyterlab.readthedocs.io/en/latest/)\n",
    "  - Ubuntu 20.04\n",
    "  - Encountered an issue with the latest release of `jupyter_client` version `8.5.0`. See [#987](https://github.com/jupyter/jupyter_client/pull/987)\n",
    "  - Fixed temporarily by downgrading the version of `jupyter_client` to `8.4.0`\n",
    "- Created my first notebook in Google Collab. See [Hello world](https://colab.research.google.com/drive/1ImIttkrZcrz39gBklRrWMJb-Px8KR67K) notebook"
   ]
  },
  {
   "cell_type": "markdown",
   "id": "6fd82f9b-3231-4d41-aa82-ae001debfa0d",
   "metadata": {},
   "source": [
    "#### Tensors\n",
    "- main object passed around in TensorFlow\n",
    "- has datatype and shape\n",
    "- vector generalized to higher dimensions\n",
    "- partially defined computation that will eventually produce a value\n",
    "- datatype: kind of information stored in a tensor"
   ]
  },
  {
   "cell_type": "code",
   "execution_count": 11,
   "id": "e6b34791-c4b7-4419-8bea-04a951a0d3d2",
   "metadata": {},
   "outputs": [],
   "source": [
    "import os\n",
    "\n",
    "os.environ['TF_ENABLE_ONEDNN_OPTS'] = '0'\n",
    "\n",
    "import tensorflow as tf\n",
    "\n",
    "string = tf.Variable('hello world', tf.string)\n",
    "number = tf.Variable(123, tf.int16)\n",
    "float = tf.Variable(3.14, tf.float64)"
   ]
  },
  {
   "cell_type": "markdown",
   "id": "fb906db3-27e5-4201-b123-4c600a80f0aa",
   "metadata": {},
   "source": [
    "#### Rank/Degree of tensor\n",
    "- rank and degree are interchangeable\n",
    "- number of dimensions involved in a tensor"
   ]
  },
  {
   "cell_type": "code",
   "execution_count": 23,
   "id": "ab25f9ae-8416-4006-843f-680dbaf1f519",
   "metadata": {},
   "outputs": [
    {
     "data": {
      "text/plain": [
       "<tf.Tensor: shape=(), dtype=int32, numpy=2>"
      ]
     },
     "execution_count": 23,
     "metadata": {},
     "output_type": "execute_result"
    }
   ],
   "source": [
    "rank_1 = tf.Variable(['foo'], tf.string)\n",
    "rank_2 = tf.Variable([[1, 2, 3], [4, 5, 6]], tf.int16)\n",
    "\n",
    "tf.rank(rank_2)"
   ]
  },
  {
   "cell_type": "markdown",
   "id": "bbe7014e-c374-49df-be24-84c84b2cd204",
   "metadata": {},
   "source": [
    "#### Shape\n",
    "- dimensions of data\n",
    "- scalar: shape of 1 (eg. `1`, `2.9`, `\"foo\"`, `\"bar\"`)\n",
    "- vector: shape of more than 1 (eg. `[1, 2, 3]`, `[[1, 2, 3], [4, 5, 6]]`)"
   ]
  },
  {
   "cell_type": "code",
   "execution_count": 22,
   "id": "47216db4-9d19-4708-ab3b-575de59fb6ca",
   "metadata": {},
   "outputs": [
    {
     "data": {
      "text/plain": [
       "TensorShape([2, 3])"
      ]
     },
     "execution_count": 22,
     "metadata": {},
     "output_type": "execute_result"
    }
   ],
   "source": [
    "rank_2.shape"
   ]
  },
  {
   "cell_type": "markdown",
   "id": "ca86f93d-f922-4a6b-a7b8-08daa9205212",
   "metadata": {},
   "source": [
    "#### Changing shape"
   ]
  },
  {
   "cell_type": "code",
   "execution_count": 21,
   "id": "2acd41ab-b9f8-487e-af5e-c19e656dc731",
   "metadata": {},
   "outputs": [],
   "source": [
    "shape_1 = tf.ones([1, 2, 3])\n",
    "shape_2 = tf.reshape(shape_1, [2, 3, 1])\n",
    "shape_3 = tf.reshape(shape_2, [3, -1])"
   ]
  },
  {
   "cell_type": "markdown",
   "id": "51a001f4-af4c-471d-bdda-1ace6a268c46",
   "metadata": {},
   "source": [
    "---"
   ]
  },
  {
   "cell_type": "markdown",
   "id": "77ccc88e-81f1-4711-ac5d-92f17d0e131c",
   "metadata": {},
   "source": [
    "## Core Learning Algorithms\n"
   ]
  },
  {
   "cell_type": "markdown",
   "id": "30c860ff-b884-4e5d-ae4b-62ed5801ded3",
   "metadata": {},
   "source": [
    "### Learning log\n",
    "\n",
    "- Setup a git repo so that I can use my notebooks across different devices: https://github.com/knsarsaba/notebooks\n",
    "- Tried to install `tensorflow` package but got an error when I tried to import the package."
   ]
  }
 ],
 "metadata": {
  "kernelspec": {
   "display_name": "Python 3 (ipykernel)",
   "language": "python",
   "name": "python3"
  },
  "language_info": {
   "codemirror_mode": {
    "name": "ipython",
    "version": 3
   },
   "file_extension": ".py",
   "mimetype": "text/x-python",
   "name": "python",
   "nbconvert_exporter": "python",
   "pygments_lexer": "ipython3",
   "version": "3.8.10"
  }
 },
 "nbformat": 4,
 "nbformat_minor": 5
}
