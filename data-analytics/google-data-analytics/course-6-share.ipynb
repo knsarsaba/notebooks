{
 "cells": [
  {
   "cell_type": "markdown",
   "id": "36b129b9-a47f-4220-b309-a5d4d717d8b7",
   "metadata": {},
   "source": [
    "# Share Data Through the Art of Visualization\n",
    "\n",
    "Notes from this course: https://www.coursera.org/learn/visualize-data/"
   ]
  },
  {
   "cell_type": "markdown",
   "id": "8066bb5e-f5de-4e42-b001-cd31074b426a",
   "metadata": {},
   "source": [
    "## Module 1: Visualize data\n",
    "\n",
    "### Learning log\n",
    "\n",
    "#### Understand data visualization\n",
    "- Rule for creating data visualization\n",
    "    - Your audience should know exactly what they're looking at within the first five seconds of seeing it\n",
    "    - This means the visual should be clear and easy to follow. In the five seconds after that, your audience should understand the conclusion your visualization is making\n",
    "- They might not agree with your conclusion, and that's okay. You can always use their feedback to adjust your visualization and go back to the data to do further analysis\n",
    "- Four elements of successful visualization\n",
    "    - Information (data)\n",
    "    - Story (concept)\n",
    "    - Goal (function)\n",
    "    - Visual form (metaphor)\n",
    "\n",
    "#### Design data visualizations\n",
    "- \n",
    "\n",
    "#### Visualization considerations\n",
    "- \n"
   ]
  },
  {
   "cell_type": "markdown",
   "id": "1f3088fd-8175-4c62-ab74-1a4f9ef7bde8",
   "metadata": {},
   "source": [
    "## Module 2: Create data visualizations with Tableau\n",
    "\n",
    "### Learning log\n",
    "\n",
    "#### Topic"
   ]
  },
  {
   "cell_type": "markdown",
   "id": "0f71b496-af00-41b7-9708-aca4c4ce8eb6",
   "metadata": {},
   "source": [
    "## Module 3: Craft data stories\n",
    "\n",
    "### Learning log\n",
    "\n",
    "#### Topic"
   ]
  },
  {
   "cell_type": "markdown",
   "id": "55bfeaea-0288-4f12-9d3b-ecb34a5e3b1c",
   "metadata": {},
   "source": [
    "## Module 4: Develop presentations and slideshows\n",
    "\n",
    "### Learning log\n",
    "\n",
    "#### Topic"
   ]
  }
 ],
 "metadata": {
  "kernelspec": {
   "display_name": "Python 3 (ipykernel)",
   "language": "python",
   "name": "python3"
  },
  "language_info": {
   "codemirror_mode": {
    "name": "ipython",
    "version": 3
   },
   "file_extension": ".py",
   "mimetype": "text/x-python",
   "name": "python",
   "nbconvert_exporter": "python",
   "pygments_lexer": "ipython3",
   "version": "3.7.8"
  }
 },
 "nbformat": 4,
 "nbformat_minor": 5
}
