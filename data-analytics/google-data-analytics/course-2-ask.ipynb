{
 "cells": [
  {
   "cell_type": "markdown",
   "id": "021df96f-d47c-48a9-ad8d-6129767d4f72",
   "metadata": {},
   "source": [
    "# Ask Questions to Make Data-Driven Decisions\n",
    "\n",
    "Notes from this course: https://www.coursera.org/learn/ask-questions-make-decisions/"
   ]
  },
  {
   "cell_type": "markdown",
   "id": "9254bf02-304a-471d-b3ae-8864fa8e1129",
   "metadata": {
    "tags": []
   },
   "source": [
    "---"
   ]
  },
  {
   "cell_type": "markdown",
   "id": "9814bc2e-8f7e-4b2a-ae0c-85cf32363efe",
   "metadata": {
    "tags": []
   },
   "source": [
    "## Module 1: Effective questions\n"
   ]
  },
  {
   "cell_type": "markdown",
   "id": "6a2d5e67-4ce1-42d0-9d1d-fb7300ab6e17",
   "metadata": {
    "tags": []
   },
   "source": [
    "### Learning log\n",
    "\n",
    "#### Take actions with data\n",
    "- Structured thinking is the process of recognizing the current problem or situation, organizing available information, revealing gaps and opportunities, and identifying the options.\n",
    "- Preparation \n",
    "    - Understanding population\n",
    "        - Who are sample set\n",
    "        - Who are control group\n",
    "        - Who are experiment group\n",
    "    - Identify data sources\n",
    "    - Make sure that data is in a clean and digestible format\n",
    "    - What internal data is available in the database?\n",
    "    - What outside facts do I need to research?\n",
    "- Process\n",
    "    - This is when data is cleaned in order to eliminate any possible errors, inaccuracies, or inconsistencies\n",
    "    - What data errors might get in the way of my analysis?\n",
    "    - How can I clean my data so the information I have is consistent?\n",
    "- Analyze\n",
    "    - Write scripts in SQL or R to correlate data\n",
    "    - What story is my data telling me?\n",
    "    - How will my data help me solve this problem?\n",
    "- Problems\n",
    "    - opportunities to put skills to work and find creative and insightful solution\n",
    "    \n",
    "#### Solve problems with data\n",
    "- Six common types of problems\n",
    "    - Making predictions\n",
    "        - Using data to make an informed decision about how things may be in the future\n",
    "    - Categorizing things\n",
    "        - Assigning information to different group or clusters based on common features\n",
    "        - Involves assigning items to categories\n",
    "    - Spotting something unusual\n",
    "        - Identify data that is different from the norm\n",
    "    - Identifying themes\n",
    "        - Grouping categorized information into broader concepts\n",
    "        - Takes categories a step further by grouping them into broader themes\n",
    "    - Discovering connections\n",
    "        - Finding similar challenges faced by different entities and combining data and insights to address them\n",
    "    - Finding patterns\n",
    "        - Using historical data to understand what happened in the past and is therefore likely to happen again\n",
    "\n",
    "#### Craft creative questoins\n",
    "- Leading questions\n",
    "    - Questions that only have a particular response\n",
    "    - Leads you to answer in a certain way\n",
    "    - Example: These are the best sandwiches ever, aren't they?\n",
    "- Closed-ended\n",
    "    - Questions that ask for a one-word or brief response only\n",
    "    - Can be answered by yes or no\n",
    "    - Rarely lead to valuable ideas\n",
    "- Vague questions\n",
    "    - Questions that aren’t specific or don’t provide context\n",
    "    - Too vague and lacks context\n",
    "    - Example: Did you enjoy growing up in Malaysia?\n",
    "- Effective questions follow the SMART methodology\n",
    "    - Specific\n",
    "        - Simple, significant, and focused on a single topic or few closely related ideas\n",
    "        - Helps collect information relevant to what we're investigating\n",
    "        - Non-specific question: Are kids getting enough exercise these days?\n",
    "        - Specific question: What percentage of kids achieve the recommended 60 minutes of physical activity at least five days a week?\n",
    "    - Measurable\n",
    "        - Can be quantified and assessed\n",
    "        - Unmeasurable question: Why did our recent video go viral?\n",
    "        - Measureable question: How many times was our video shared on social channels the first week it was posted?\n",
    "    - Action-oriented\n",
    "        - Encourage change\n",
    "        - Bring answers you can act on\n",
    "        - Non-action oriented question: How can we get customers to recycle our product packaging?\n",
    "        - Action oriented question: What design features will make our packaging easier to recycle?\n",
    "    - Relevant\n",
    "        - These questions matter, are important and have significance to the problem you're trying to solve\n",
    "        - Non-relevant questions: Why does it matter that Pine Barrens tree frogs started disappearing?\n",
    "        - Relevant questions: What environmental factors changed in Durham, North Carolina, between 1983 and 2004 that could cause Pine Barrens tree frogs to disappear from Sandhills Regions?\n",
    "    - Time-bound\n",
    "        - These questions specify the time to be studied\n",
    "        - Help limit the range of analysis possibilities and enable data analysts to focus on the most relevant data\n",
    "        - Same example as above\n",
    "    - Fairness\n",
    "        - Ensuring that your questions don't create or reinforce bias\n",
    "        - Crafting questions that make sense to everyone\n",
    "        - Unfair question: These are the best sandwiches ever, aren't they?\n",
    "            - Difficult to answer honestly if you disagreed about the sandwich quality\n",
    "        - Unfair question: What do you love most about our exhibits?\n",
    "            - This assumes that the customer loves the exhibits which may or may not be true\n",
    "- Questions should be open-ended. This is the best way to get responses that will help you accurately qualify or disqualify potential solutions to your specific problem.\n",
    "- Consider the ways your questions help you examine objectives, audience, time, security, and resources.\n",
    "- Taking good notes\n",
    "    - Should be comprehensive and useful\n",
    "    - To help you capture meaningful notes, you should stick to a process of asking a question, clarifying your understanding of their response, and then briefly recording it in your notes\n",
    "    - If a question is worth asking, then the answer is worth recording\n",
    "    - Facts: Write down any concrete piece of information, such as dates, times, names, and other specifics.\n",
    "    - Context: Facts without context are useless. Note any relevant details that are needed in order to understand the information you gather.\n",
    "    - Unknowns: Sometimes you may miss an important question during a conversation. Make a note when this happens so you can figure out the answer later. \n",
    "\n",
    "#### Glossary\n",
    "https://docs.google.com/document/d/1jvYsAhXprkKj3WpVc21UHtatSQTvnd_eHS33gfmVXC4/template/preview\n",
    "\n",
    "\n"
   ]
  },
  {
   "cell_type": "markdown",
   "id": "5ef33d5f-2a6b-4d5e-abe0-417bb2b29462",
   "metadata": {},
   "source": [
    "---"
   ]
  },
  {
   "cell_type": "markdown",
   "id": "dec028f7-47ab-46aa-aa78-06344605fa85",
   "metadata": {},
   "source": [
    "## Module 2: Data-driven decisions"
   ]
  },
  {
   "cell_type": "markdown",
   "id": "8fc01f98-c1c7-4828-ace9-da769969d4cd",
   "metadata": {},
   "source": [
    "### Learning log\n",
    "\n",
    "#### Understand the power of data\n",
    "- Data is a collection of facts\n",
    "- Data analysis \n",
    "    - Reveals important patterns and insights about data\n",
    "    - Can help us make more informed descisions\n",
    "- Data-inspired decision-making\n",
    "    - Explores different data sources to find out what they have in common\n",
    "- Algorithm\n",
    "    - A process or set of rules to be followed for a specific task\n",
    "- Quantitative data\n",
    "    - Specific and objective measure of numerical facts\n",
    "    - What? How many? How often? questions\n",
    "    - Things you can measure\n",
    "    - Charts and graphs\n",
    "- Qualitative data\n",
    "    - Subjective or explanatory measures of qualities and characteristics\n",
    "    - Things that can't be measured with numerical data\n",
    "    - Why? questions\n",
    "    - Adds context to the problem\n",
    "- Measureabe questions - generate quantitative data\n",
    "    - How many negative reviews are ther?\n",
    "    - What's the average rating?\n",
    "    - How many of these reviews use the same keywords?\n",
    "- Questions that lead to qualitative data\n",
    "    - Why are customers unsatisfied?\n",
    "    - How can we improve their experience?\n",
    "- Qualitative data tools\n",
    "    - Focus groups\n",
    "    - Social media text analysis\n",
    "    - In-person interviews\n",
    "- Quantitative data tools\n",
    "    - Structured interviews\n",
    "    - Surveys\n",
    "    - Polls\n",
    "\n",
    "    \n",
    "\n"
   ]
  }
 ],
 "metadata": {
  "kernelspec": {
   "display_name": "Python 3 (ipykernel)",
   "language": "python",
   "name": "python3"
  },
  "language_info": {
   "codemirror_mode": {
    "name": "ipython",
    "version": 3
   },
   "file_extension": ".py",
   "mimetype": "text/x-python",
   "name": "python",
   "nbconvert_exporter": "python",
   "pygments_lexer": "ipython3",
   "version": "3.7.8"
  }
 },
 "nbformat": 4,
 "nbformat_minor": 5
}
