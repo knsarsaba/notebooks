{
 "cells": [
  {
   "cell_type": "markdown",
   "id": "021df96f-d47c-48a9-ad8d-6129767d4f72",
   "metadata": {},
   "source": [
    "# Ask Questions to Make Data-Driven Decisions\n",
    "\n",
    "Notes from this course: https://www.coursera.org/learn/ask-questions-make-decisions/"
   ]
  },
  {
   "cell_type": "markdown",
   "id": "9254bf02-304a-471d-b3ae-8864fa8e1129",
   "metadata": {
    "tags": []
   },
   "source": [
    "---"
   ]
  },
  {
   "cell_type": "markdown",
   "id": "9814bc2e-8f7e-4b2a-ae0c-85cf32363efe",
   "metadata": {},
   "source": [
    "## Module 1: Effective questions\n"
   ]
  },
  {
   "cell_type": "markdown",
   "id": "6a2d5e67-4ce1-42d0-9d1d-fb7300ab6e17",
   "metadata": {},
   "source": [
    "### Learning log\n",
    "- Structured thinking is the process of recognizing the current problem or situation, organizing available information, revealing gaps and opportunities, and identifying the options.\n",
    "- Preparation \n",
    "    - Understanding population\n",
    "        - Who are sample set\n",
    "        - Who are control group\n",
    "        - Who are experiment group\n",
    "    - Identify data sources\n",
    "    - Make sure that data is in a clean and digestible format\n",
    "    - What internal data is available in the database?\n",
    "    - What outside facts do I need to research?\n",
    "- Process\n",
    "    - This is when data is cleaned in order to eliminate any possible errors, inaccuracies, or inconsistencies\n",
    "    - What data errors might get in the way of my analysis?\n",
    "    - How can I clean my data so the information I have is consistent?\n",
    "- Analyze\n",
    "    - Write scripts in SQL or R to correlate data\n",
    "    - What story is my data telling me?\n",
    "    - How will my data help me solve this problem?\n",
    "- Problems\n",
    "    - opportunities to put skills to work and find creative and insightful solution\n",
    "- Six common types of problems\n",
    "    - Making predictions\n",
    "        - Using data to make an informed decision about how things may be in the future\n",
    "    - Categorizing things\n",
    "        - Assigning information to different group or clusters based on common features\n",
    "    - Spotting something unusual\n",
    "        - Identify data that is different from the norm\n",
    "    - Identifying themes\n",
    "        - Grouping categorized information into broader concepts\n",
    "    - Discovering connections\n",
    "        - Finding similar challenges faced by different entities and combining data and insights to address them\n",
    "    - Finding patterns\n",
    "        - Using historical data to understand what happened in the past and is therefore likely to happen again"
   ]
  }
 ],
 "metadata": {
  "kernelspec": {
   "display_name": "Python 3 (ipykernel)",
   "language": "python",
   "name": "python3"
  },
  "language_info": {
   "codemirror_mode": {
    "name": "ipython",
    "version": 3
   },
   "file_extension": ".py",
   "mimetype": "text/x-python",
   "name": "python",
   "nbconvert_exporter": "python",
   "pygments_lexer": "ipython3",
   "version": "3.7.8"
  }
 },
 "nbformat": 4,
 "nbformat_minor": 5
}
