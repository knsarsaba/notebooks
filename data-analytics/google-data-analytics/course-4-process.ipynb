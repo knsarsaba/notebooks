{
 "cells": [
  {
   "cell_type": "markdown",
   "id": "3fc11665-c8a6-41cb-8213-bc65d1a42642",
   "metadata": {},
   "source": [
    "# Process Data from Dirty to Clean\n",
    "\n",
    "Notes from this course: https://www.coursera.org/learn/process-data"
   ]
  },
  {
   "cell_type": "markdown",
   "id": "88f9abfc-f7be-4f9b-aca0-208d360bb640",
   "metadata": {},
   "source": [
    "## Module 1: The importance of integrity"
   ]
  },
  {
   "cell_type": "markdown",
   "id": "55784813-2c0a-4161-bb8f-1dc9997a2886",
   "metadata": {},
   "source": [
    "---"
   ]
  },
  {
   "cell_type": "markdown",
   "id": "8aa3e09b-aa4d-4fe9-afa2-b97fb94bfa63",
   "metadata": {},
   "source": [
    "## Module 2: Sparkling-clean data"
   ]
  },
  {
   "cell_type": "markdown",
   "id": "104bb1cc-7b39-4742-a596-1a38844cfaa4",
   "metadata": {},
   "source": [
    "---"
   ]
  },
  {
   "cell_type": "markdown",
   "id": "28d5794b-09d4-41da-9608-88cd50250205",
   "metadata": {},
   "source": [
    "## Module 3: Cleaning data with SQL"
   ]
  },
  {
   "cell_type": "markdown",
   "id": "d91b0f6f-aade-45b5-a740-f774622e6246",
   "metadata": {},
   "source": [
    "---"
   ]
  },
  {
   "cell_type": "markdown",
   "id": "d86fb882-8ed3-40f5-8932-425006043713",
   "metadata": {},
   "source": [
    "## Module 4: Verify and report on your cleaning results"
   ]
  },
  {
   "cell_type": "markdown",
   "id": "5e03da72-0d46-43b4-abd1-85f3cb2ff010",
   "metadata": {},
   "source": [
    "---"
   ]
  },
  {
   "cell_type": "markdown",
   "id": "69bce25b-e501-40d6-9a3c-7368c53c5afc",
   "metadata": {},
   "source": [
    "## Module 5: Adding data to your resume"
   ]
  }
 ],
 "metadata": {
  "kernelspec": {
   "display_name": "Python 3 (ipykernel)",
   "language": "python",
   "name": "python3"
  },
  "language_info": {
   "codemirror_mode": {
    "name": "ipython",
    "version": 3
   },
   "file_extension": ".py",
   "mimetype": "text/x-python",
   "name": "python",
   "nbconvert_exporter": "python",
   "pygments_lexer": "ipython3",
   "version": "3.7.8"
  }
 },
 "nbformat": 4,
 "nbformat_minor": 5
}
