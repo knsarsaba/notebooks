{
 "cells": [
  {
   "cell_type": "markdown",
   "id": "3fc11665-c8a6-41cb-8213-bc65d1a42642",
   "metadata": {},
   "source": [
    "# Process Data from Dirty to Clean\n",
    "\n",
    "Notes from this course: https://www.coursera.org/learn/process-data"
   ]
  },
  {
   "cell_type": "markdown",
   "id": "88f9abfc-f7be-4f9b-aca0-208d360bb640",
   "metadata": {},
   "source": [
    "## Module 1: The importance of integrity"
   ]
  },
  {
   "cell_type": "markdown",
   "id": "0e8420e3-9dc2-42d0-924c-d991ff30de55",
   "metadata": {},
   "source": [
    "### Learning log\n",
    "\n",
    "#### Focus on integrity\n",
    "- A strong analysis depends on the integrity of the data\n",
    "\n",
    "#### Data integrity and analytics objectives\n",
    "- Data integrity\n",
    "    - The accuracy, completeness, consistency, and trustworthiness of data throughout its lifecycle\n",
    "- One missing piece can make all of your data useless\n",
    "- Ways data can be compromised\n",
    "    - Replicated\n",
    "        - There's a chance data data will be out of sync\n",
    "        - Example: One analyst copies a large dataset to check the dates. But because of memory issues, only part of the dataset is actually copied. The analyst would be verifying and standardizing incomplete data. That partial dataset would be certified as compliant but the full dataset would still contain dates that weren't verified. Two versions of a dataset can introduce inconsistent results. A final audit of results would be essential to reveal what happened and correct all dates\n",
    "    - Transferred\n",
    "        - Might end up with incomplete data if data transfer is interrupted\n",
    "        - Example: Another analyst checks the dates in a spreadsheet and chooses to import the validated and standardized data back to the database. But suppose the date field from the spreadsheet was incorrectly classified as a text field during the data import (transfer) process. Now some of the dates in the database are stored as text strings. At this point, the data needs to be cleaned to restore its integrity.\n",
    "    - Manipulated\n",
    "        - An error during the process can compromise the efficiency\n",
    "        - Example: When checking dates, another analyst notices what appears to be a duplicate record in the database and removes it. But it turns out that the analyst removed a unique record for a company’s subsidiary and not a duplicate record for the company. Your dataset is now missing data and the data must be restored for completeness.\n",
    "- Data replication\n",
    "    - Is the process of storing data in multiple locations\n",
    "- Data transfer\n",
    "    - The process of copying data from a storage device to memory, or from one computer to another\n",
    "- Data manipulation\n",
    "    - The process of changing data to make it more organized and easier to read\n",
    "- Other threats to data integrity\n",
    "    - Human error\n",
    "    - Viruses\n",
    "    - Malware\n",
    "    - Hacking\n",
    "    - System failures\n",
    "- Data constraints and examples\n",
    "    - Data type\n",
    "        - Values must be of a certain type: date, number, percentage, Boolean, etc\n",
    "        - Example: If the data type is a date, a single number like 30 would fail the constraint and be invalid\n",
    "    - Data range\n",
    "        - Values must fall between predefined maximum and minimum values\n",
    "        - Example: If the data range is 10-20, a value of 30 would fail the constraint and be invalid\n",
    "    - Mandatory\n",
    "        - Values can’t be left blank or empty\n",
    "        - Example: If age is mandatory, that value must be filled in\n",
    "    - Unique\n",
    "        - Values can’t have a duplicate\n",
    "        - Example: Two people can’t have the same mobile phone number within the same service area\n",
    "    - Regular expression (regex) patterns\n",
    "        - Values must match a prescribed pattern\n",
    "        - Example: A phone number must match ###-###-#### (no other characters allowed)\n",
    "    - Cross-field validation\n",
    "        - Certain conditions for multiple fields must be satisfied\n",
    "        - Example: Values are percentages and values from multiple fields must add up to 100%\n",
    "    - Primary-key\n",
    "        - (Databases only) value must be unique per column\n",
    "        - Example: A database table can’t have two rows with the same primary key value. A primary key is an identifier in a database that references a column in which each value is unique.\n",
    "    - Set-membership\n",
    "        - (Databases only) values for a column must come from a set of discrete values \n",
    "        - Example: Value for a column must be set to Yes, No, or Not Applicable\n",
    "    - Foreign-key\n",
    "        - (Databases only) values for a column must be unique values coming from a column in another table\n",
    "        - Example: In a U.S. taxpayer database, the State column must be a valid state or territory with the set of acceptable values defined in a separate States table\n",
    "    - Accuracy\n",
    "        - The degree to which the data conforms to the actual entity being measured or described\n",
    "        - Example: If values for zip codes are validated by street location, the accuracy of the data goes up.\n",
    "    - Completeness\n",
    "        - The degree to which the data contains all desired components or measures\n",
    "        - Example: If data for personal profiles required hair and eye color, and both are collected, the data is complete.\n",
    "    - Consistency\n",
    "        - The degree to which the data is repeatable from different points of entry or collection\n",
    "        - Example: If a customer has the same address in the sales and repair databases, the data is consistent.\n",
    "- It's important to check that the data you use aligns with the business objective\n",
    "- Well-aligned objectives and data\n",
    "    - You can gain powerful insights and make accurate conclusions when data is well-aligned to business objectives\n",
    "    - As a data analyst, alignment is something you will need to judge\n",
    "    - Good alignment means that the data is relevant and can help you solve a business problem or determine a course of action to achieve a given business objective\n",
    "- Clean data + alignment to business objective = accurate conclusions\n",
    "- Alignment to business objective + additional data cleaning = accurate conclusions\n",
    "- Alignment to business objective + newly discovered variables + constraints = accurate conclusions\n",
    "- VLOOKUP\n",
    "    - Spreadsheet function that searches for a certain value in a column to return a related piece of information\n",
    "- DATEDIF\n",
    "    - Calculate the difference between the dates\n",
    "    - Calculate the number of days between two dates\n",
    "- When there is clean data and good alignment, you can get accurate insights and make conclusions the data supports\n",
    "- If there is good alignment but the data needs to be cleaned, clean the data before you perform your analysis\n",
    "- If the data only partially aligns with an objective, think about how you could modify the objective, or use data constraints to make sure that the subset of data better aligns with the business objective\n",
    "\n",
    "#### Overcoming the challenges of insufficient data\n",
    "\n",
    "#### Testing your data\n",
    "\n",
    "#### Consider the margin of error\n",
    "\n",
    "#### Glossary\n"
   ]
  },
  {
   "cell_type": "markdown",
   "id": "55784813-2c0a-4161-bb8f-1dc9997a2886",
   "metadata": {},
   "source": [
    "---"
   ]
  },
  {
   "cell_type": "markdown",
   "id": "8aa3e09b-aa4d-4fe9-afa2-b97fb94bfa63",
   "metadata": {},
   "source": [
    "## Module 2: Sparkling-clean data"
   ]
  },
  {
   "cell_type": "markdown",
   "id": "104bb1cc-7b39-4742-a596-1a38844cfaa4",
   "metadata": {},
   "source": [
    "---"
   ]
  },
  {
   "cell_type": "markdown",
   "id": "28d5794b-09d4-41da-9608-88cd50250205",
   "metadata": {},
   "source": [
    "## Module 3: Cleaning data with SQL"
   ]
  },
  {
   "cell_type": "markdown",
   "id": "d91b0f6f-aade-45b5-a740-f774622e6246",
   "metadata": {},
   "source": [
    "---"
   ]
  },
  {
   "cell_type": "markdown",
   "id": "d86fb882-8ed3-40f5-8932-425006043713",
   "metadata": {},
   "source": [
    "## Module 4: Verify and report on your cleaning results"
   ]
  },
  {
   "cell_type": "markdown",
   "id": "5e03da72-0d46-43b4-abd1-85f3cb2ff010",
   "metadata": {},
   "source": [
    "---"
   ]
  },
  {
   "cell_type": "markdown",
   "id": "69bce25b-e501-40d6-9a3c-7368c53c5afc",
   "metadata": {},
   "source": [
    "## Module 5: Adding data to your resume"
   ]
  }
 ],
 "metadata": {
  "kernelspec": {
   "display_name": "Python 3 (ipykernel)",
   "language": "python",
   "name": "python3"
  },
  "language_info": {
   "codemirror_mode": {
    "name": "ipython",
    "version": 3
   },
   "file_extension": ".py",
   "mimetype": "text/x-python",
   "name": "python",
   "nbconvert_exporter": "python",
   "pygments_lexer": "ipython3",
   "version": "3.7.8"
  }
 },
 "nbformat": 4,
 "nbformat_minor": 5
}
