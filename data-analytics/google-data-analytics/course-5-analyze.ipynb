{
 "cells": [
  {
   "cell_type": "markdown",
   "id": "2b8c855c-113e-493c-843b-1a5a6365ac7d",
   "metadata": {},
   "source": [
    "# Analyze Data to Answer Questions\n",
    "\n",
    "Notes from this course: https://www.coursera.org/learn/analyze-data/"
   ]
  },
  {
   "cell_type": "markdown",
   "id": "64099bb6-645a-4c1b-a549-2b26e3452205",
   "metadata": {},
   "source": [
    "## Module 1: Organizing data to begin analysis"
   ]
  },
  {
   "cell_type": "markdown",
   "id": "87b3959d-9495-485c-9b27-98b794345098",
   "metadata": {},
   "source": [
    "### Learning log\n",
    "\n",
    "#### Let's get organized\n",
    "- Analysis\n",
    "    - The process used to make sense of the data collected\n",
    "    - The goal of analysis is to identify trends and relationships within data so you can accurately answer the question you're asking\n",
    "- The 4 phases of analysis\n",
    "    - Organize data\n",
    "    - Format and adjust data\n",
    "        - An analyst sorts and filters data during the format and adjust analysis phase\n",
    "        - Example\n",
    "            - You are working with a dataset from a local community college. You sort the students alphabetically by last name\n",
    "    - Get input from others\n",
    "        - Example\n",
    "            - You ask volunteers at a theater production which tasks they have already completed and add that data to a spreadsheet containing all required tasks. You will use the information provided by the volunteers to figure out which tasks still need to be done.\n",
    "    - Transform data\n",
    "        - By observing relationships between data points and making calculations\n",
    "- People refer to Google data as a lens to human curiosity\n",
    "        - Example\n",
    "            - You are working with three datasets about voter turnout in your county. First, you identify relationships and patterns between the datasets. Then, you use formulas and functions to make calculations based on your data\n",
    "\n",
    "\n",
    "#### Data analysis basics\n",
    "\n",
    "#### Organize data for analysis\n",
    "\n",
    "#### Sort data in spreadsheets\n",
    "\n",
    "#### Sort data using SQL\n",
    "\n",
    "#### Glossary\n",
    "\n",
    "##### Further reading\n"
   ]
  },
  {
   "cell_type": "markdown",
   "id": "799376de-ec8c-4dae-bd03-16ecdd1016bb",
   "metadata": {},
   "source": [
    "---"
   ]
  },
  {
   "cell_type": "markdown",
   "id": "74c39b63-277c-429c-a165-932897cab7f7",
   "metadata": {},
   "source": [
    "## Module 2: Formatting and adjusting data"
   ]
  },
  {
   "cell_type": "markdown",
   "id": "3f471e00-ac74-458f-b1d5-4c55e92349d2",
   "metadata": {},
   "source": [
    "---"
   ]
  },
  {
   "cell_type": "markdown",
   "id": "9ca099f3-173f-4af7-aa0b-19fa9b36b929",
   "metadata": {},
   "source": [
    "## Module 3: Aggregating data for analysis"
   ]
  },
  {
   "cell_type": "markdown",
   "id": "292576ff-aaca-40ff-ba85-119bbea9a69e",
   "metadata": {},
   "source": [
    "---"
   ]
  },
  {
   "cell_type": "markdown",
   "id": "6f890c4e-cdbb-48aa-96b8-00fef861580b",
   "metadata": {},
   "source": [
    "## Module 4: Performing data calculations"
   ]
  }
 ],
 "metadata": {
  "kernelspec": {
   "display_name": "Python 3 (ipykernel)",
   "language": "python",
   "name": "python3"
  },
  "language_info": {
   "codemirror_mode": {
    "name": "ipython",
    "version": 3
   },
   "file_extension": ".py",
   "mimetype": "text/x-python",
   "name": "python",
   "nbconvert_exporter": "python",
   "pygments_lexer": "ipython3",
   "version": "3.7.8"
  }
 },
 "nbformat": 4,
 "nbformat_minor": 5
}
