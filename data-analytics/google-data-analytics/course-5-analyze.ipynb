{
 "cells": [
  {
   "cell_type": "markdown",
   "id": "2b8c855c-113e-493c-843b-1a5a6365ac7d",
   "metadata": {},
   "source": [
    "# Analyze Data to Answer Questions\n",
    "\n",
    "Notes from this course: https://www.coursera.org/learn/analyze-data/"
   ]
  },
  {
   "cell_type": "markdown",
   "id": "64099bb6-645a-4c1b-a549-2b26e3452205",
   "metadata": {
    "tags": []
   },
   "source": [
    "## Module 1: Organizing data to begin analysis"
   ]
  },
  {
   "cell_type": "markdown",
   "id": "87b3959d-9495-485c-9b27-98b794345098",
   "metadata": {
    "tags": []
   },
   "source": [
    "### Learning log\n",
    "\n",
    "#### Let's get organized\n",
    "- Analysis\n",
    "    - The process used to make sense of the data collected\n",
    "    - The goal of analysis is to identify trends and relationships within data so you can accurately answer the question you're asking\n",
    "- The 4 phases of analysis\n",
    "    - Organize data\n",
    "        - Most of the datasets you will use will be organized as tables\n",
    "        - Tables are helpful because they let you manipulate your data and categorize it\n",
    "        - Having distinct categories and classifications lets you focus on, and differentiate between, your data quickly and easily\n",
    "    - Format and adjust data\n",
    "        - Sorting and filtering are two ways you can keep things organized when you format and adjust data to work with it\n",
    "        - A filter can help you find errors or outliers so you can fix or flag them before your analysis\n",
    "        - An analyst sorts and filters data during the format and adjust analysis phase\n",
    "        - The benefit of filtering the data is that after you fix errors or identify outliers, you can remove the filter and return the data to its original organization\n",
    "        - Example\n",
    "            - You are working with a dataset from a local community college. You sort the students alphabetically by last name\n",
    "    - Get input from others\n",
    "        - Phases of analysis where you compare your data to external sources\n",
    "        - Example\n",
    "            - You ask volunteers at a theater production which tasks they have already completed and add that data to a spreadsheet containing all required tasks. You will use the information provided by the volunteers to figure out which tasks still need to be done.\n",
    "    - Transform data\n",
    "        - By observing relationships between data points and making calculations\n",
    "        - Phase of analysis that attempts to determine if there are any patterns in the data\n",
    "        - Example\n",
    "            - You are working with three datasets about voter turnout in your county. First, you identify relationships and patterns between the datasets. Then, you use formulas and functions to make calculations based on your data\n",
    "- People refer to Google data as a lens to human curiosity\n",
    "- The bottom line is that it's important to have your data in the right format. So always be prepared to adjust, no matter how far into your analysis you are.\n",
    "- Outlier\n",
    "    - Data points that are very different from similarly collected data and might not be reliable values\n",
    "- Sorting\n",
    "    - Sorting is when you arrange data into a meaningful order to make it easier to understand, analyze, and visualize\n",
    "    - It ranks your data based on a specific metric you choose\n",
    "    - Sorting will arrange the data in a meaningful way and give you immediate insights\n",
    "    - Sorting also helps you to group similar data together by a classification\n",
    "- Filtering\n",
    "    - Filtering is used when you are only interested in seeing data that meets a specific criteria, and hiding the rest\n",
    "    - Filtering is really useful when you have lots of data\n",
    "    - You can save time by zeroing in on the data that is really important or the data that has bugs or errors\n",
    "    - Filtering gives you the ability to find what you are looking for without too much effort\n",
    "    - Use filtering when you need to reduce the amount of data that is displayed\n",
    "    - It is important to point out that, after you filter data, you can sort the filtered data, tooz\n",
    "- Database organization\n",
    "    - Used to decide which data is relevant to their analysis and which data types and variables are appropriate\n",
    "    - Enables analysts to make decisions about which data is relevant to pull for a specific analysis. It also helps them decide which data types and variables are appropriate\n",
    "- Sort sheet\n",
    "    - All of the data in a spreadsheet is sorted by the ranking of a specific sorted column\n",
    "    - Data across rows is kept together\n",
    "- Sort range\n",
    "    - Doesn't keep the information across rows together\n",
    "    - Nothing else on the spreadsheet is rearranged besides the specified cells in a column\n",
    "- Customized sort order\n",
    "    - When you sort data in a spreadsheet using multiple conditions\n",
    "\n",
    "#### Glossary\n",
    "https://docs.google.com/document/d/1b70u-s0d9YdlUY2xORogZTlLD6BZSnSB2r99lI4IufY/template/preview"
   ]
  },
  {
   "cell_type": "markdown",
   "id": "799376de-ec8c-4dae-bd03-16ecdd1016bb",
   "metadata": {},
   "source": [
    "---"
   ]
  },
  {
   "cell_type": "markdown",
   "id": "74c39b63-277c-429c-a165-932897cab7f7",
   "metadata": {
    "tags": []
   },
   "source": [
    "## Module 2: Formatting and adjusting data"
   ]
  },
  {
   "cell_type": "markdown",
   "id": "33b9d85a-304c-40dd-9441-958be743ed61",
   "metadata": {},
   "source": [
    "### Learning log\n",
    "\n",
    "#### Convert and format data\n",
    "- Incorrectly formatted data can:\n",
    "    - Lead to mistakes\n",
    "    - Take time to fix\n",
    "    - Affect stakeholder's decision-making\n",
    "- One of the ways to help ensure that you have an accurate analysis of your data is by putting all of it in the correct format. This is true even if you have already cleaned and processed your data. As a part of getting your data ready for analysis, you will need to convert and format your data early on in the process.\n",
    "- Data validation in spreadsheets\n",
    "    - Allows you to control what can and can't be entered in your worksheet\n",
    "    - Add dropdown lists with predetermined options\n",
    "    - Create custom checkboxes\n",
    "    - Protect structured data and formulas\n",
    "- Conditional formatting\n",
    "    - A spreadsheet tool that changes how cells appear when values meet specific conditions\n",
    "- SQL\n",
    "    - COERCION\n",
    "        - Work with big numbers\n",
    "    - UNIX_DATE\n",
    "        - Returns the number of days that have passed since January 1, 1970 and is used to compare and work with dates across multiple time zones\n",
    "    - SAFE_CAST\n",
    "        - Using the CAST function in a query that fails returns an error in BigQuery. To avoid errors in the event of a failed query, use the SAFE_CAST function instead\n",
    "        - The SAFE_CAST function returns a value of Null instead of an error when a query fails\n",
    "- Openness (or open data)\n",
    "    - Free access, usage, and sharing of data\n",
    "\n",
    "#### Get support during analysis\n",
    "- `IF(end>start, end-start, 24+end-start)`\n",
    "    - Calculate elapsed time that started and ended on different days\n",
    "- The analyze stage is where you become the expert about your dataset\n",
    "- Best practices for searching oneline\n",
    "    - Thinking skills\n",
    "    - Data analytics terms\n",
    "    - Basic knowledge of tools\n",
    "- Mental model\n",
    "    - Your thought process and the way you approach a problem\n",
    "- R\n",
    "    - A programming language frequently used for statistical analysis, visualization, and other data analysis\n",
    "\n",
    "#### Glossary\n",
    "https://docs.google.com/document/d/1kpj3hm2NDlgI624cD7R13P1UaJ3V7g4t3DtdRhvKV7g/template/preview\n",
    "\n",
    "##### Further reading\n",
    "- [CONVERT](https://support.google.com/docs/answer/6055540?hl=en)\n",
    "- [TO_PERCENT](https://support.google.com/docs/answer/3094284?hl=en)\n",
    "- [Change date format](https://www.ablebits.com/office-addins-blog/2019/08/13/google-sheets-change-date-format/)\n",
    "- [How to convert text to numbers](https://productivityspot.com/convert-text-to-numbers-google-sheets/)\n",
    "- [How to split and combine cells](https://www.techrepublic.com/article/how-to-split-or-combine-text-cells-with-google-sheets/)\n",
    "- [Conversion Rules in Standard SQL](https://cloud.google.com/bigquery/docs/reference/standard-sql/conversion_rules)\n",
    "- [CAST and CONVERT](https://learn.microsoft.com/en-us/sql/t-sql/functions/cast-and-convert-transact-sql?view=sql-server-ver15)\n",
    "- [MySQL CAST Functions and Operators](https://dev.mysql.com/doc/refman/8.0/en/cast-functions.html)\n",
    "- [Keyboard shortcuts for Google Sheets](https://support.google.com/docs/answer/181110)\n",
    "- [List of Google Sheets Functions](https://support.google.com/docs/table/25273?hl=en)\n",
    "- [23 Must-Know Google Sheet Formulas](https://blog.golayer.io/google-sheets/google-sheets-formulas)\n",
    "- [18 Google Sheets Formula Tips and Techniques](https://www.benlcollins.com/spreadsheets/google-sheets-formulas-techniques/)\n"
   ]
  },
  {
   "cell_type": "markdown",
   "id": "3f471e00-ac74-458f-b1d5-4c55e92349d2",
   "metadata": {},
   "source": [
    "---"
   ]
  },
  {
   "cell_type": "markdown",
   "id": "9ca099f3-173f-4af7-aa0b-19fa9b36b929",
   "metadata": {
    "tags": []
   },
   "source": [
    "## Module 3: Aggregating data for analysis"
   ]
  },
  {
   "cell_type": "markdown",
   "id": "50a8b669-abeb-4af1-b346-b5699827c03d",
   "metadata": {
    "jp-MarkdownHeadingCollapsed": true,
    "tags": []
   },
   "source": [
    "### Learning log\n",
    "\n",
    "#### VLOOKUP and data aggregation\n",
    "- Aggregation\n",
    "    - Collecting or gathering many separate pieces into a whole\n",
    "- Data aggregation\n",
    "    - The process of gathering data from multiple sources in order to combine it into a single summarized collection\n",
    "    - Helps data analysts in\n",
    "        - Identify trends\n",
    "        - Make comparisons\n",
    "        - Gain insights\n",
    "- Summary\n",
    "    - Summarized collection\n",
    "    - Describes indentifying the data you need and gathering it all together in one place\n",
    "- Subquery\n",
    "    - Query within another query\n",
    "- VLOOKUP\n",
    "    - Use it to search for a value in a column and return a corresponding piece of information\n",
    "    - Combine data from multiple sources and find information quickly\n",
    "    - TRUE - approximate match on search key\n",
    "    - FALSE - exact match on search key\n",
    "\n",
    "#### Glossary\n",
    "https://www.coursera.org/learn/analyze-data/supplement/eXxLS/glossary-terms-from-module-3\n",
    "\n",
    "##### Further reading"
   ]
  },
  {
   "cell_type": "markdown",
   "id": "292576ff-aaca-40ff-ba85-119bbea9a69e",
   "metadata": {},
   "source": [
    "---"
   ]
  },
  {
   "cell_type": "markdown",
   "id": "6f890c4e-cdbb-48aa-96b8-00fef861580b",
   "metadata": {
    "tags": []
   },
   "source": [
    "## Module 4: Performing data calculations"
   ]
  },
  {
   "cell_type": "markdown",
   "id": "98d4c4f3-41c0-4804-a122-9768e18498df",
   "metadata": {
    "tags": []
   },
   "source": [
    "### Learning log\n",
    "\n",
    "#### Pivot...pivot...pivot\n",
    "- Pivot tables\n",
    "    - Tool used to sort, reorganize, group, count, total, or average data in spreadsheets\n",
    "    - Make it possible to view data in multiple ways in order to identify insights and trends\n",
    "    - Help you quickly make sense of larger data sets by comparing metrics, performing calculations, and generating reports\n",
    "    - Useful for answering specific questions about your data\n",
    "    - Effective tool for data analysts working with spreadsheets because they highlight key insights from the spreadsheet data without having to make changes to the spreadsheet\n",
    "- Parts of pivot tables\n",
    "    - Rows\n",
    "        - Organize and group data you select horizontally\n",
    "    - Columns\n",
    "        - Organize and display values from your data vertically\n",
    "        - Pulled directly from the data set or created using values\n",
    "    - Values\n",
    "        - Used to calculate and count data\n",
    "        - This is where you input the variables you want to measure\n",
    "        - This is also how you create calculated fields in your pivot table\n",
    "    - Filters\n",
    "        - Enables you to apply filters based on specific criteria\n",
    "- Calculated field\n",
    "    - New field within a pivot table that carries out certain calculations based on the values of other fields\n",
    "\n",
    "#### The data validation process\n",
    "- Data validation\n",
    "    - Involves checking and rechecking the quality of your data, so that it is complete, accurate, secure, and consistent\n",
    "- Types of data validation\n",
    "    - Data type\n",
    "        - Check that the data matches the data type defined for a field\n",
    "        - eg. Data values for school grades 1-12 must be a numeric data type\n",
    "        - Limitation: The data value 13 would pass the data type validation but would be an unacceptable value. For this case, data range validation is also needed\n",
    "    - Data range\n",
    "        - Check that the data falls within an acceptable range of values defined for the field\n",
    "        - eg. Data values for school grades should be values between 1 and 12\n",
    "        - Limitation: The data value 11.5 would be in the data range and would also pass as a numeric data type. But, it would be unacceptable because there aren't half grades. For this case, data constraint validation is also needed\n",
    "    - Data constraint\n",
    "        - Check that the data meets certain conditions or criteria for a field. This includes the type of data entered as well as other attributes of the field, such as number of characters\n",
    "        - eg. Content constraint: Data values for school grades 1-12 must be whole numbers\n",
    "        - Limitation: The data value 13 is a whole number and would pass the content constraint validation. But, it would be unacceptable since 13 isn’t a recognized school grade. For this case, data range validation is also needed\n",
    "    - Data consistency\n",
    "        - Check that the data makes sense in the context of other related data\n",
    "        - eg. Data values for product shipping dates can’t be earlier than product production dates\n",
    "        - Limitation: Data might be consistent but still incorrect or inaccurate. A shipping date could be later than a production date and still be wrong\n",
    "    - Data structure\n",
    "        - Check that the data follows or conforms to a set structure\n",
    "        - eg. Web pages must follow a prescribed structure to be displayed properly\n",
    "        - Limitation: A data structure might be correct with the data still incorrect or inaccurate. Content on a web page could be displayed properly and still contain the wrong information\n",
    "    - Code validation\n",
    "        - Check that the application code systematically performs any of the previously mentioned validations during user data input\n",
    "        - eg. Common problems discovered during code validation include: more than one data type allowed, data range checking not done, or ending of text strings not well defined\n",
    "        - Limitation: Code validation might not validate all possible variations with data input\n",
    "\n",
    "#### SQL and temporary tables\n",
    "- Temporary table\n",
    "    - Database table that is created and exists temporarily on a database server\n",
    "    - Store subsets of data from standard data tables for a certain period of time. Then they're automatically deleted when you end your SQL database session\n",
    "    - They can be used as a holding area for storing values if you are making a series of calculations. This is sometimes referred to as pre-processing of the data\n",
    "    - They can collect the results of multiple, separate queries. This is sometimes referred to as data staging. Staging is useful if you need to perform a query on the collected data or merge the collected data\n",
    "    - They can store a filtered subset of the database. You don’t need to select and filter the data each time you work with it. In addition, using fewer SQL commands helps to keep your data clean\n",
    "- Best practices when working with temporary tables\n",
    "    - Global vs. local temporary tables\n",
    "        - Global temporary tables are made available to all database users and are deleted when all connections that use them have closed. Local temporary tables are made available only to the user whose query or connection established the temporary table. You will most likely be working with local temporary tables. If you have created a local temporary table and are the only person using it, you can drop the temporary table after you are done using it\n",
    "    - Dropping temporary tables after use\n",
    "        - Dropping a temporary table is a little different from deleting a temporary table. Dropping a temporary table not only removes the information contained in the rows of the table, but removes the table variable definitions (columns) themselves. Deleting a temporary table removes the rows of the table but leaves the table definition and columns ready to be used again. Although local temporary tables are dropped after you end your SQL session, it may not happen immediately. If a lot of processing is happening in the database, dropping your temporary tables after using them is a good practice to keep the database running smoothly\n",
    "- Why use Connected Sheets\n",
    "    - Collaborating with partners, analysts, or other stakeholders in a familiar spreadsheet interface\n",
    "    - Ensuring a single source of truth for data analysis without additional .csv exports\n",
    "    - Defining variables so that all users are working with the same data\n",
    "    - Sharing insights with your team in a secure environment; and\n",
    "    - Streamlining your reporting and dashboard workflows\n",
    "- Use cases of Connected Sheets\n",
    "    - Business planning: A user can build and prepare datasets, and then find insights from the data. For example, a data analyst can analyze sales data to determine which products sell better in different locations\n",
    "    - Customer service: A user can find out which stores have the most complaints per 10,000 customers\n",
    "    - Sales: A user can create internal finance and sales reports. After completing, they can share revenue reports with sales reps\n",
    "    - Logistics, fulfillment, and delivery: A user can run real-time inventory management and intelligent analytics tools\n",
    "- Connected Sheets benefits\n",
    "    - Collaborate with teammates and stakeholders\n",
    "        - Since Connects Sheets lives in Google Workspace, you can easily collaborate with other teammates and stakeholders in your company. If you’d like to limit access, you also control permissions for who can view, edit, or share the data\n",
    "    - Do more with familiar tools\n",
    "        - With Connected Sheets, you can access billions of rows of BigQuery data directly in Sheets. This direct access makes it easier for all employees to track, forecast, and analyze their data to get to better decisions faster\n",
    "    - Easily visualize data\n",
    "        - You can unlock insights from your BigQuery datasets using features you’re already familiar with in Sheets, such as pivot tables, charts, and formulas. These features help visualize large datasets more easily than using a more advanced language such as SQL. However, if you know SQL, you may prefer to use it in certain situations\n",
    "    - Up to date data\n",
    "        - With Connected Sheets, data professionals can ensure they are making decisions based on a single source of truth by setting up automatic refreshes of BigQuery data in Sheets\n",
    "    - Less data integrity and security risk\n",
    "        - While users can access big data with Connected Sheets, they won’t be able to accidentally manipulate or jeopardize the integrity of the data. There’s less security risk because data isn’t stored on individual workstations, it’s stored in the cloud\n",
    "- Connected Sheets shortcomings\n",
    "    - Limited free pricing tier\n",
    "        - A shortcoming of Connected Sheets is that for the free pricing tier, users only receive 1 terabyte (TB) of processed query data each month. To process more data, you will need to move to a paid tier\n",
    "    - Data must be housed in BigQuery\n",
    "        - Another shortcoming is that you will need access to your data set in BigQuery. Without access to BigQuery, you won’t be able to analyze data in Connected Sheets\n",
    "    - Query will fail with large results\n",
    "        - A third shortcoming is that the Connected Sheets query will fail if the results are too large. Your query will fail if your pivot table has a significant amount of results, which could be anywhere from 30,000 to 50,000. To reduce your results, you can use filters or limit the number of rows per breakout\n",
    "    \n",
    "#### Glossary\n",
    "https://www.coursera.org/learn/analyze-data/supplement/0raUI/glossary-terms-from-module-4\n",
    "https://docs.google.com/document/d/1LS9dMhUQYi6bHgShzlggR_1P3m5BitAOXxS4szLOlrU/template/preview#heading=h.88g9djfv9w97"
   ]
  }
 ],
 "metadata": {
  "kernelspec": {
   "display_name": "Python 3 (ipykernel)",
   "language": "python",
   "name": "python3"
  },
  "language_info": {
   "codemirror_mode": {
    "name": "ipython",
    "version": 3
   },
   "file_extension": ".py",
   "mimetype": "text/x-python",
   "name": "python",
   "nbconvert_exporter": "python",
   "pygments_lexer": "ipython3",
   "version": "3.7.8"
  }
 },
 "nbformat": 4,
 "nbformat_minor": 5
}
