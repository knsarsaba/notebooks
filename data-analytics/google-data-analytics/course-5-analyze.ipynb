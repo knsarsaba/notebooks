{
 "cells": [
  {
   "cell_type": "markdown",
   "id": "2b8c855c-113e-493c-843b-1a5a6365ac7d",
   "metadata": {},
   "source": [
    "# Analyze Data to Answer Questions\n",
    "\n",
    "Notes from this course: https://www.coursera.org/learn/analyze-data/"
   ]
  },
  {
   "cell_type": "markdown",
   "id": "64099bb6-645a-4c1b-a549-2b26e3452205",
   "metadata": {
    "jp-MarkdownHeadingCollapsed": true,
    "tags": []
   },
   "source": [
    "## Module 1: Organizing data to begin analysis"
   ]
  },
  {
   "cell_type": "markdown",
   "id": "87b3959d-9495-485c-9b27-98b794345098",
   "metadata": {
    "tags": []
   },
   "source": [
    "### Learning log\n",
    "\n",
    "#### Let's get organized\n",
    "- Analysis\n",
    "    - The process used to make sense of the data collected\n",
    "    - The goal of analysis is to identify trends and relationships within data so you can accurately answer the question you're asking\n",
    "- The 4 phases of analysis\n",
    "    - Organize data\n",
    "        - Most of the datasets you will use will be organized as tables\n",
    "        - Tables are helpful because they let you manipulate your data and categorize it\n",
    "        - Having distinct categories and classifications lets you focus on, and differentiate between, your data quickly and easily\n",
    "    - Format and adjust data\n",
    "        - Sorting and filtering are two ways you can keep things organized when you format and adjust data to work with it\n",
    "        - A filter can help you find errors or outliers so you can fix or flag them before your analysis\n",
    "        - An analyst sorts and filters data during the format and adjust analysis phase\n",
    "        - The benefit of filtering the data is that after you fix errors or identify outliers, you can remove the filter and return the data to its original organization\n",
    "        - Example\n",
    "            - You are working with a dataset from a local community college. You sort the students alphabetically by last name\n",
    "    - Get input from others\n",
    "        - Phases of analysis where you compare your data to external sources\n",
    "        - Example\n",
    "            - You ask volunteers at a theater production which tasks they have already completed and add that data to a spreadsheet containing all required tasks. You will use the information provided by the volunteers to figure out which tasks still need to be done.\n",
    "    - Transform data\n",
    "        - By observing relationships between data points and making calculations\n",
    "        - Phase of analysis that attempts to determine if there are any patterns in the data\n",
    "        - Example\n",
    "            - You are working with three datasets about voter turnout in your county. First, you identify relationships and patterns between the datasets. Then, you use formulas and functions to make calculations based on your data\n",
    "- People refer to Google data as a lens to human curiosity\n",
    "- The bottom line is that it's important to have your data in the right format. So always be prepared to adjust, no matter how far into your analysis you are.\n",
    "- Outlier\n",
    "    - Data points that are very different from similarly collected data and might not be reliable values\n",
    "- Sorting\n",
    "    - Sorting is when you arrange data into a meaningful order to make it easier to understand, analyze, and visualize\n",
    "    - It ranks your data based on a specific metric you choose\n",
    "    - Sorting will arrange the data in a meaningful way and give you immediate insights\n",
    "    - Sorting also helps you to group similar data together by a classification\n",
    "- Filtering\n",
    "    - Filtering is used when you are only interested in seeing data that meets a specific criteria, and hiding the rest\n",
    "    - Filtering is really useful when you have lots of data\n",
    "    - You can save time by zeroing in on the data that is really important or the data that has bugs or errors\n",
    "    - Filtering gives you the ability to find what you are looking for without too much effort\n",
    "    - Use filtering when you need to reduce the amount of data that is displayed\n",
    "    - It is important to point out that, after you filter data, you can sort the filtered data, tooz\n",
    "- Database organization\n",
    "    - Used to decide which data is relevant to their analysis and which data types and variables are appropriate\n",
    "    - Enables analysts to make decisions about which data is relevant to pull for a specific analysis. It also helps them decide which data types and variables are appropriate\n",
    "- Sort sheet\n",
    "    - All of the data in a spreadsheet is sorted by the ranking of a specific sorted column\n",
    "    - Data across rows is kept together\n",
    "- Sort range\n",
    "    - Doesn't keep the information across rows together\n",
    "    - Nothing else on the spreadsheet is rearranged besides the specified cells in a column\n",
    "- Customized sort order\n",
    "    - When you sort data in a spreadsheet using multiple conditions\n",
    "\n",
    "#### Glossary\n",
    "https://docs.google.com/document/d/1b70u-s0d9YdlUY2xORogZTlLD6BZSnSB2r99lI4IufY/template/preview"
   ]
  },
  {
   "cell_type": "markdown",
   "id": "799376de-ec8c-4dae-bd03-16ecdd1016bb",
   "metadata": {},
   "source": [
    "---"
   ]
  },
  {
   "cell_type": "markdown",
   "id": "74c39b63-277c-429c-a165-932897cab7f7",
   "metadata": {
    "tags": []
   },
   "source": [
    "## Module 2: Formatting and adjusting data"
   ]
  },
  {
   "cell_type": "markdown",
   "id": "33b9d85a-304c-40dd-9441-958be743ed61",
   "metadata": {},
   "source": [
    "### Learning log\n",
    "\n",
    "#### Convert and format data\n",
    "- Incorrectly formatted data can:\n",
    "    - Lead to mistakes\n",
    "    - Take time to fix\n",
    "    - Affect stakeholder's decision-making\n",
    "- One of the ways to help ensure that you have an accurate analysis of your data is by putting all of it in the correct format. This is true even if you have already cleaned and processed your data. As a part of getting your data ready for analysis, you will need to convert and format your data early on in the process.\n",
    "- Data validation in spreadsheets\n",
    "    - Allows you to control what can and can't be entered in your worksheet\n",
    "    - Add dropdown lists with predetermined options\n",
    "    - Create custom checkboxes\n",
    "    - Protect structured data and formulas\n",
    "- Conditional formatting\n",
    "    - A spreadsheet tool that changes how cells appear when values meet specific conditions\n",
    "- SQL\n",
    "    - COERCION\n",
    "        - Work with big numbers\n",
    "    - UNIX_DATE\n",
    "        - Returns the number of days that have passed since January 1, 1970 and is used to compare and work with dates across multiple time zones\n",
    "    - SAFE_CAST\n",
    "        - Using the CAST function in a query that fails returns an error in BigQuery. To avoid errors in the event of a failed query, use the SAFE_CAST function instead\n",
    "        - The SAFE_CAST function returns a value of Null instead of an error when a query fails\n",
    "- Openness (or open data)\n",
    "    - Free access, usage, and sharing of data\n",
    "\n",
    "#### Get support during analysis\n",
    "- `IF(end>start, end-start, 24+end-start)`\n",
    "    - Calculate elapsed time that started and ended on different days\n",
    "- The analyze stage is where you become the expert about your dataset\n",
    "- Best practices for searching oneline\n",
    "    - Thinking skills\n",
    "    - Data analytics terms\n",
    "    - Basic knowledge of tools\n",
    "- Mental model\n",
    "    - Your thought process and the way you approach a problem\n",
    "- R\n",
    "    - A programming language frequently used for statistical analysis, visualization, and other data analysis\n",
    "\n",
    "#### Glossary\n",
    "https://docs.google.com/document/d/1kpj3hm2NDlgI624cD7R13P1UaJ3V7g4t3DtdRhvKV7g/template/preview\n",
    "\n",
    "##### Further reading\n",
    "- [CONVERT](https://support.google.com/docs/answer/6055540?hl=en)\n",
    "- [TO_PERCENT](https://support.google.com/docs/answer/3094284?hl=en)\n",
    "- [Change date format](https://www.ablebits.com/office-addins-blog/2019/08/13/google-sheets-change-date-format/)\n",
    "- [How to convert text to numbers](https://productivityspot.com/convert-text-to-numbers-google-sheets/)\n",
    "- [How to split and combine cells](https://www.techrepublic.com/article/how-to-split-or-combine-text-cells-with-google-sheets/)\n",
    "- [Conversion Rules in Standard SQL](https://cloud.google.com/bigquery/docs/reference/standard-sql/conversion_rules)\n",
    "- [CAST and CONVERT](https://learn.microsoft.com/en-us/sql/t-sql/functions/cast-and-convert-transact-sql?view=sql-server-ver15)\n",
    "- [MySQL CAST Functions and Operators](https://dev.mysql.com/doc/refman/8.0/en/cast-functions.html)\n",
    "- [Keyboard shortcuts for Google Sheets](https://support.google.com/docs/answer/181110)\n",
    "- [List of Google Sheets Functions](https://support.google.com/docs/table/25273?hl=en)\n",
    "- [23 Must-Know Google Sheet Formulas](https://blog.golayer.io/google-sheets/google-sheets-formulas)\n",
    "- [18 Google Sheets Formula Tips and Techniques](https://www.benlcollins.com/spreadsheets/google-sheets-formulas-techniques/)\n"
   ]
  },
  {
   "cell_type": "markdown",
   "id": "3f471e00-ac74-458f-b1d5-4c55e92349d2",
   "metadata": {},
   "source": [
    "---"
   ]
  },
  {
   "cell_type": "markdown",
   "id": "9ca099f3-173f-4af7-aa0b-19fa9b36b929",
   "metadata": {},
   "source": [
    "## Module 3: Aggregating data for analysis"
   ]
  },
  {
   "cell_type": "markdown",
   "id": "50a8b669-abeb-4af1-b346-b5699827c03d",
   "metadata": {},
   "source": [
    "### Learning log\n",
    "\n",
    "#### VLOOKUP and data aggregation\n",
    "\n",
    "#### Use JOINS to aggregate data in SQL\n",
    "\n",
    "#### Work with subqueries\n",
    "\n",
    "#### Glossary\n",
    "\n",
    "##### Further reading"
   ]
  },
  {
   "cell_type": "markdown",
   "id": "292576ff-aaca-40ff-ba85-119bbea9a69e",
   "metadata": {},
   "source": [
    "---"
   ]
  },
  {
   "cell_type": "markdown",
   "id": "6f890c4e-cdbb-48aa-96b8-00fef861580b",
   "metadata": {},
   "source": [
    "## Module 4: Performing data calculations"
   ]
  }
 ],
 "metadata": {
  "kernelspec": {
   "display_name": "Python 3 (ipykernel)",
   "language": "python",
   "name": "python3"
  },
  "language_info": {
   "codemirror_mode": {
    "name": "ipython",
    "version": 3
   },
   "file_extension": ".py",
   "mimetype": "text/x-python",
   "name": "python",
   "nbconvert_exporter": "python",
   "pygments_lexer": "ipython3",
   "version": "3.7.8"
  }
 },
 "nbformat": 4,
 "nbformat_minor": 5
}
