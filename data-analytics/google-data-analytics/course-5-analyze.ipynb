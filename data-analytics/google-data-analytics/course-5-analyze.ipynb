{
 "cells": [
  {
   "cell_type": "markdown",
   "id": "2b8c855c-113e-493c-843b-1a5a6365ac7d",
   "metadata": {},
   "source": [
    "# Analyze Data to Answer Questions\n",
    "\n",
    "Notes from this course: https://www.coursera.org/learn/analyze-data/"
   ]
  },
  {
   "cell_type": "markdown",
   "id": "64099bb6-645a-4c1b-a549-2b26e3452205",
   "metadata": {},
   "source": [
    "## Module 1: Organizing data to begin analysis"
   ]
  },
  {
   "cell_type": "markdown",
   "id": "87b3959d-9495-485c-9b27-98b794345098",
   "metadata": {},
   "source": [
    "### Learning log\n",
    "\n",
    "#### Let's get organized\n",
    "- Analysis\n",
    "    - The process used to make sense of the data collected\n",
    "    - The goal of analysis is to identify trends and relationships within data so you can accurately answer the question you're asking\n",
    "- The 4 phases of analysis\n",
    "    - Organize data\n",
    "        - Most of the datasets you will use will be organized as tables\n",
    "        - Tables are helpful because they let you manipulate your data and categorize it\n",
    "        - Having distinct categories and classifications lets you focus on, and differentiate between, your data quickly and easily\n",
    "    - Format and adjust data\n",
    "        - Sorting and filtering are two ways you can keep things organized when you format and adjust data to work with it\n",
    "        - A filter can help you find errors or outliers so you can fix or flag them before your analysis\n",
    "        - An analyst sorts and filters data during the format and adjust analysis phase\n",
    "        - The benefit of filtering the data is that after you fix errors or identify outliers, you can remove the filter and return the data to its original organization\n",
    "        - Example\n",
    "            - You are working with a dataset from a local community college. You sort the students alphabetically by last name\n",
    "    - Get input from others\n",
    "        - Example\n",
    "            - You ask volunteers at a theater production which tasks they have already completed and add that data to a spreadsheet containing all required tasks. You will use the information provided by the volunteers to figure out which tasks still need to be done.\n",
    "    - Transform data\n",
    "        - By observing relationships between data points and making calculations\n",
    "- People refer to Google data as a lens to human curiosity\n",
    "        - Example\n",
    "            - You are working with three datasets about voter turnout in your county. First, you identify relationships and patterns between the datasets. Then, you use formulas and functions to make calculations based on your data\n",
    "- The bottom line is that it's important to have your data in the right format. So always be prepared to adjust, no matter how far into your analysis you are.\n",
    "- Outlier\n",
    "    - Data points that are very different from similarly collected data and might not be reliable values\n",
    "- Sorting\n",
    "    - Sorting is when you arrange data into a meaningful order to make it easier to understand, analyze, and visualize\n",
    "    - It ranks your data based on a specific metric you choose\n",
    "    - Sorting will arrange the data in a meaningful way and give you immediate insights\n",
    "    - Sorting also helps you to group similar data together by a classification\n",
    "- Filtering\n",
    "    - Filtering is used when you are only interested in seeing data that meets a specific criteria, and hiding the rest\n",
    "    - Filtering is really useful when you have lots of data\n",
    "    - You can save time by zeroing in on the data that is really important or the data that has bugs or errors\n",
    "    - Filtering gives you the ability to find what you are looking for without too much effort\n",
    "    - Use filtering when you need to reduce the amount of data that is displayed\n",
    "    - It is important to point out that, after you filter data, you can sort the filtered data, tooz\n",
    "- Database organization\n",
    "    - Used to decide which data is relevant to their analysis and which data types and variables are appropriate\n",
    "    - Enables analysts to make decisions about which data is relevant to pull for a specific analysis. It also helps them decide which data types and variables are appropriate\n",
    "- Sort sheet\n",
    "    - All of the data in a spreadsheet is sorted by the ranking of a specific sorted column\n",
    "    - Data across rows is kept together\n",
    "- Sort range\n",
    "    - Doesn't keep the information across rows together\n",
    "    - Nothing else on the spreadsheet is rearranged besides the specified cells in a column\n",
    "- Customized sort order\n",
    "    - When you sort data in a spreadsheet using multiple conditions\n",
    "\n",
    "#### Glossary\n",
    "https://docs.google.com/document/d/1b70u-s0d9YdlUY2xORogZTlLD6BZSnSB2r99lI4IufY/template/preview"
   ]
  },
  {
   "cell_type": "markdown",
   "id": "799376de-ec8c-4dae-bd03-16ecdd1016bb",
   "metadata": {},
   "source": [
    "---"
   ]
  },
  {
   "cell_type": "markdown",
   "id": "74c39b63-277c-429c-a165-932897cab7f7",
   "metadata": {},
   "source": [
    "## Module 2: Formatting and adjusting data"
   ]
  },
  {
   "cell_type": "markdown",
   "id": "3f471e00-ac74-458f-b1d5-4c55e92349d2",
   "metadata": {},
   "source": [
    "---"
   ]
  },
  {
   "cell_type": "markdown",
   "id": "9ca099f3-173f-4af7-aa0b-19fa9b36b929",
   "metadata": {},
   "source": [
    "## Module 3: Aggregating data for analysis"
   ]
  },
  {
   "cell_type": "markdown",
   "id": "292576ff-aaca-40ff-ba85-119bbea9a69e",
   "metadata": {},
   "source": [
    "---"
   ]
  },
  {
   "cell_type": "markdown",
   "id": "6f890c4e-cdbb-48aa-96b8-00fef861580b",
   "metadata": {},
   "source": [
    "## Module 4: Performing data calculations"
   ]
  }
 ],
 "metadata": {
  "kernelspec": {
   "display_name": "Python 3 (ipykernel)",
   "language": "python",
   "name": "python3"
  },
  "language_info": {
   "codemirror_mode": {
    "name": "ipython",
    "version": 3
   },
   "file_extension": ".py",
   "mimetype": "text/x-python",
   "name": "python",
   "nbconvert_exporter": "python",
   "pygments_lexer": "ipython3",
   "version": "3.7.8"
  }
 },
 "nbformat": 4,
 "nbformat_minor": 5
}
