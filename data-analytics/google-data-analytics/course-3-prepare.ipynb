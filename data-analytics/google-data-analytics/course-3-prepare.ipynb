{
 "cells": [
  {
   "cell_type": "markdown",
   "id": "38d8074b-920f-44ae-9c77-a6c99aa9c2cd",
   "metadata": {},
   "source": [
    "# Prepare Data for Exploration\n",
    "\n",
    "Notes from this course: https://www.coursera.org/learn/data-preparation/"
   ]
  },
  {
   "cell_type": "markdown",
   "id": "8e442a65-aca5-4ff5-a345-03dde9c3b93c",
   "metadata": {},
   "source": [
    "## Module 1: Data types and structures"
   ]
  },
  {
   "cell_type": "markdown",
   "id": "f01c4875-0348-499c-a3cd-0666fdd6e3a3",
   "metadata": {},
   "source": [
    "---"
   ]
  },
  {
   "cell_type": "markdown",
   "id": "35f6b49e-9209-45a3-89b5-7915e6f18f0b",
   "metadata": {},
   "source": [
    "## Module 2: Bias, credibility, privacy, ethics, and access"
   ]
  },
  {
   "cell_type": "markdown",
   "id": "309d0a20-182a-431b-82b9-273424ffab97",
   "metadata": {},
   "source": [
    "---"
   ]
  },
  {
   "cell_type": "markdown",
   "id": "653c25bc-5f80-4564-ad61-8b599862103e",
   "metadata": {},
   "source": [
    "## Module 3: Databases: Where data lives"
   ]
  },
  {
   "cell_type": "markdown",
   "id": "533289b5-923f-4a3a-afbf-646fdfb89f40",
   "metadata": {},
   "source": [
    "---"
   ]
  },
  {
   "cell_type": "markdown",
   "id": "f65622b6-473f-4768-8b18-2d545eb63629",
   "metadata": {},
   "source": [
    "## Module 4: Organizing and protecting your data"
   ]
  },
  {
   "cell_type": "markdown",
   "id": "950b5566-8bd5-47e0-a917-10747648ff48",
   "metadata": {},
   "source": [
    "---"
   ]
  },
  {
   "cell_type": "markdown",
   "id": "14a4e008-092e-4320-94b6-740e3b4d21c3",
   "metadata": {},
   "source": [
    "## Module 5: Optional: Engaging in the data community"
   ]
  },
  {
   "cell_type": "markdown",
   "id": "403c868d-7553-4d0b-9324-1691b0fa4382",
   "metadata": {},
   "source": [
    "---"
   ]
  },
  {
   "cell_type": "markdown",
   "id": "23ac751f-247c-4ed7-ae46-6d530ae5f5cd",
   "metadata": {},
   "source": [
    "## Module 6: Course challenge"
   ]
  }
 ],
 "metadata": {
  "kernelspec": {
   "display_name": "Python 3 (ipykernel)",
   "language": "python",
   "name": "python3"
  },
  "language_info": {
   "codemirror_mode": {
    "name": "ipython",
    "version": 3
   },
   "file_extension": ".py",
   "mimetype": "text/x-python",
   "name": "python",
   "nbconvert_exporter": "python",
   "pygments_lexer": "ipython3",
   "version": "3.7.8"
  }
 },
 "nbformat": 4,
 "nbformat_minor": 5
}
