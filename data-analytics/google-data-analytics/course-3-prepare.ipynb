{
 "cells": [
  {
   "cell_type": "markdown",
   "id": "38d8074b-920f-44ae-9c77-a6c99aa9c2cd",
   "metadata": {},
   "source": [
    "# Prepare Data for Exploration\n",
    "\n",
    "Notes from this course: https://www.coursera.org/learn/data-preparation/"
   ]
  }
 ],
 "metadata": {
  "kernelspec": {
   "display_name": "Python 3 (ipykernel)",
   "language": "python",
   "name": "python3"
  },
  "language_info": {
   "codemirror_mode": {
    "name": "ipython",
    "version": 3
   },
   "file_extension": ".py",
   "mimetype": "text/x-python",
   "name": "python",
   "nbconvert_exporter": "python",
   "pygments_lexer": "ipython3",
   "version": "3.7.8"
  }
 },
 "nbformat": 4,
 "nbformat_minor": 5
}
