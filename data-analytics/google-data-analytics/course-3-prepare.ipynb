{
 "cells": [
  {
   "cell_type": "markdown",
   "id": "38d8074b-920f-44ae-9c77-a6c99aa9c2cd",
   "metadata": {},
   "source": [
    "# Prepare Data for Exploration\n",
    "\n",
    "Notes from this course: https://www.coursera.org/learn/data-preparation/"
   ]
  },
  {
   "cell_type": "markdown",
   "id": "8e442a65-aca5-4ff5-a345-03dde9c3b93c",
   "metadata": {},
   "source": [
    "## Module 1: Data types and structures\n",
    "\n",
    "### Learning log\n",
    "\n",
    "#### Collecting data\n",
    "- As a data analyst, you need to be an expert at structuring, extracting, and making sure the data you are working with is reliable\n",
    "- Develop a general idea of how all data is generated and collected since every organization structures data differently\n",
    "- No matter what data structure you are faced with in your new role, you will feel confident working with it\n",
    "- Data might be biased instead of credible, or dirty instead of clean\n",
    "- Your goal is to learn how to analyze data for bias and credibility and to understand what clean data means\n",
    "- When data analysts work with data, they always check that the data is unbiased and credible\n",
    "- How to collect, apply, organize, and protect data\n",
    "- How is data collected\n",
    "    - Interviews\n",
    "    - Observations\n",
    "    - Forms\n",
    "    - Questionnaires\n",
    "    - Surveys\n",
    "    - Cookies\n",
    "- Knowing how it's generated can help add context to the data\n",
    "- Knowing how it's collected can help the data analysis process more efficient\n",
    "- Data collection considerations\n",
    "    - How the data will be collected\n",
    "        - Decide if you will collect the data using your own resources or receive (and possibly purchase it) from another party\n",
    "    - Choose data sources\n",
    "        - First-party \n",
    "            - Data collected by an individual or group using their own resources\n",
    "            - Preferred method because you know exactly where it came from\n",
    "        - Second-party\n",
    "            - Data collected by a group directly from its audience and then sold\n",
    "        - Third-party\n",
    "            - Data collected from outside sources who did not collect it directly\n",
    "            - Might come from a number of different sources\n",
    "            - Might not be as reliable but doesn't mean it can't be useful\n",
    "            - Need to be checked for accuracy, bias, and credibility\n",
    "            - Needs to be inspected for accuracy and trustworthiness no matter what kind of data you use\n",
    "            - Sold by a provider that didn’t collect the data themselves\n",
    "    - Decide what data to use\n",
    "        - Choose data that can actually help solve your problem question\n",
    "        - For example, if you are analyzing trends over time, make sure you use time series data — in other words, data that includes dates\n",
    "    - How much data to collect\n",
    "        - If you are collecting your own data, make reasonable decisions about sample size. A random sample from existing data might be fine for some projects. Other projects might need more strategic data collection to focus on certain criteria. Each project has its own needs. \n",
    "    - Select the right data type\n",
    "    - Determine the timeframe\n",
    "        - If you are collecting your own data, decide how long you will need to collect it, especially if you are tracking trends over a long period of time. If you need an immediate answer, you might not have time to collect new data. In this case, you would need to use historical data that already exists. \n",
    "- Population\n",
    "    - All possible data values in a certain dataset\n",
    "- Sample\n",
    "    - A part of a population that is representative of the population\n",
    "\n",
    "##### Flowchart\n",
    "![flowchart](https://d3c33hcgiwev3.cloudfront.net/imageAssetProxy.v1/5TyGAFZrRi28hgBWa-Ytcg_a723a1a4d78b42e1bcb6ddd2178adc42_Screen-Shot-2020-12-14-at-2.19.22-PM.png?expiry=1699142400000&hmac=IoGziIegBLGSwhMhZYoO09rZvWVvHTug1JfkzOnTrQw)\n",
    "\n",
    "#### Differentiate between data formats and structure\n",
    "- Quantitative data\n",
    "    - Can be measured, counted, expressed as a number\n",
    "    - Data with a certain quantity, amount, or range\n",
    "    - Can be broken down into discrete or continuous data\n",
    "    - Example:\n",
    "        - Percentage of board certified doctors who are women\n",
    "        - Population of elephants in Africa\n",
    "        - Distance from Earth to Mars\n",
    "- Qualitative data\n",
    "    - Can't be counted, measured, or easily expressed using numbers\n",
    "    - Usually listed as a name, category, or description\n",
    "    - Example:\n",
    "        - Exercise activity most enjoyed\n",
    "        - Favorite brands of most loyal customers\n",
    "        - Fashion preferences of young adults\n",
    "- Discrete data\n",
    "    - Data that is counted and has a limited number of values\n",
    "    - Example: Budgets, Starts, Points\n",
    "    - When partial measurements (half-stars or quarter-points) aren't allowed, the data is discrete\n",
    "    - If you don't accept anything other than full stars or points, the data is considered discrete.\n",
    "    - Example:\n",
    "        - Number of people who visit a hospital on a daily basis (10, 20, 200)\n",
    "        - Room’s maximum capacity allowed\n",
    "        - Tickets sold in the current month\n",
    "- Continuous data\n",
    "    - Data that is measured and can have almost any numeric value\n",
    "    - Can be measured using a timer\n",
    "    - Can be shown as a decimal with several places\n",
    "    - Example:\n",
    "        - Height of kids in third grade classes (52.5 inches, 65.7 inches)\n",
    "        - Runtime markers in a video\n",
    "        - Temperature\n",
    "- Nominal data\n",
    "    - A type of qualitative data that is categorized without a set order\n",
    "    - Doesn't have a sequence\n",
    "    - Example: \n",
    "        - First time customer, returning customer, regular customer\n",
    "        - New job applicant, existing applicant, internal applicant\n",
    "        - New listing, reduced price listing, foreclosure\n",
    "        - Q: Ask people if they've watched a movie. \n",
    "        - A:Yes, No, Not sure\n",
    "    - Choices doesn't have particular order\n",
    "- Ordinal data\n",
    "    - A type of qualitative data with a set order or scale\n",
    "    - Example:\n",
    "        - Movie ratings (number of stars: 1 star, 2 stars, 3 stars)\n",
    "        - Ranked-choice voting selections (1st, 2nd, 3rd)\n",
    "        - Income level (low income, middle income, high income)\n",
    "        - Q: Rank a movie from 1 to 5\n",
    "        - A: 1, 2, 3, 4, 5\n",
    "    - Rankings are in order of how much each person liked the movie\n",
    "- Internal data\n",
    "    - Data that lives within a company's own systems\n",
    "    - Usually more reliable and easier to collect\n",
    "    - Example:\n",
    "        - Wages of employees across different business units tracked by HR\n",
    "        - Product inventory levels across distribution centers\n",
    "- External data\n",
    "    - Data that lives and is generated outside of an organization\n",
    "    - Valuable when your analysis depends on as many sources as possible\n",
    "    - Example:\n",
    "        - National average wages for the various positions throughout your organization\n",
    "        - Credit reports for customers of an auto dealership\n",
    "- Structured data\n",
    "    - Data organized in a certain format such as rows and columns\n",
    "    - Spreadsheets and Relational Databases are examples of software that can store data in a structured way\n",
    "    - Example:\n",
    "        - Expense reports\n",
    "        - Tax returns\n",
    "        - Store inventory\n",
    "- Unstructured data\n",
    "    - Data that is not organized in any easily identifiable manner\n",
    "    - Example: Audio and video files\n",
    "    - No clear way to identify or organize their content\n",
    "    - Might have internal structure but the data doesn't fit neatly in rows and columns like structured data\n",
    "    - Example:\n",
    "        - Social media posts\n",
    "        - Emails\n",
    "        - Videos\n",
    "- Primary data\n",
    "    - Collected by a researcher from first-hand sources\n",
    "    - Examples:\n",
    "        - Data from an interview you conducted\n",
    "        - Data from a survey returned from 20 participants\n",
    "        - Data from questionnaires you got back from a group of workers\n",
    "- Secondary data\n",
    "    - Gathered by other people or from other research\n",
    "    - Examples:\n",
    "        - Data you bought from a local data analytics firm’s customer profiles\n",
    "        - Demographic data collected by a university\n",
    "        - Census data gathered by the federal government\n",
    "\n",
    "##### Data formats in practice\n",
    "![formats](https://d3c33hcgiwev3.cloudfront.net/imageAssetProxy.v1/lpSSp7kPSMqUkqe5D6jKhQ_d475227147854cadb95f7724129bc6f1_C3M1L2R1.png?expiry=1699142400000&hmac=UHdvrLiU1J4jhAPBxdAvFbR-ZeBGuK4E-bCIed6LdBg)\n",
    "\n",
    "#### Explore data types, fields, and values\n"
   ]
  },
  {
   "cell_type": "markdown",
   "id": "f01c4875-0348-499c-a3cd-0666fdd6e3a3",
   "metadata": {},
   "source": [
    "---"
   ]
  },
  {
   "cell_type": "markdown",
   "id": "35f6b49e-9209-45a3-89b5-7915e6f18f0b",
   "metadata": {},
   "source": [
    "## Module 2: Bias, credibility, privacy, ethics, and access"
   ]
  },
  {
   "cell_type": "markdown",
   "id": "309d0a20-182a-431b-82b9-273424ffab97",
   "metadata": {},
   "source": [
    "---"
   ]
  },
  {
   "cell_type": "markdown",
   "id": "653c25bc-5f80-4564-ad61-8b599862103e",
   "metadata": {},
   "source": [
    "## Module 3: Databases: Where data lives"
   ]
  },
  {
   "cell_type": "markdown",
   "id": "533289b5-923f-4a3a-afbf-646fdfb89f40",
   "metadata": {},
   "source": [
    "---"
   ]
  },
  {
   "cell_type": "markdown",
   "id": "f65622b6-473f-4768-8b18-2d545eb63629",
   "metadata": {},
   "source": [
    "## Module 4: Organizing and protecting your data"
   ]
  },
  {
   "cell_type": "markdown",
   "id": "950b5566-8bd5-47e0-a917-10747648ff48",
   "metadata": {},
   "source": [
    "---"
   ]
  },
  {
   "cell_type": "markdown",
   "id": "14a4e008-092e-4320-94b6-740e3b4d21c3",
   "metadata": {},
   "source": [
    "## Module 5: Optional: Engaging in the data community"
   ]
  },
  {
   "cell_type": "markdown",
   "id": "403c868d-7553-4d0b-9324-1691b0fa4382",
   "metadata": {},
   "source": [
    "---"
   ]
  },
  {
   "cell_type": "markdown",
   "id": "23ac751f-247c-4ed7-ae46-6d530ae5f5cd",
   "metadata": {},
   "source": [
    "## Module 6: Course challenge"
   ]
  }
 ],
 "metadata": {
  "kernelspec": {
   "display_name": "Python 3 (ipykernel)",
   "language": "python",
   "name": "python3"
  },
  "language_info": {
   "codemirror_mode": {
    "name": "ipython",
    "version": 3
   },
   "file_extension": ".py",
   "mimetype": "text/x-python",
   "name": "python",
   "nbconvert_exporter": "python",
   "pygments_lexer": "ipython3",
   "version": "3.7.8"
  }
 },
 "nbformat": 4,
 "nbformat_minor": 5
}
